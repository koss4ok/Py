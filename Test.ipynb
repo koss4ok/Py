{
 "cells": [
  {
   "cell_type": "code",
   "execution_count": 8,
   "metadata": {},
   "outputs": [],
   "source": [
    "import pandas as pd\n",
    "import seaborn as sbn"
   ]
  },
  {
   "cell_type": "code",
   "execution_count": 9,
   "metadata": {},
   "outputs": [
    {
     "name": "stdout",
     "output_type": "stream",
     "text": [
      "<class 'pandas.core.frame.DataFrame'>\n",
      "RangeIndex: 58656 entries, 0 to 58655\n",
      "Data columns (total 5 columns):\n",
      " #   Column         Non-Null Count  Dtype \n",
      "---  ------         --------------  ----- \n",
      " 0   creation_date  58656 non-null  object\n",
      " 1   hours          58656 non-null  int64 \n",
      " 2   min            58656 non-null  int64 \n",
      " 3   description    49104 non-null  object\n",
      " 4   type           58656 non-null  object\n",
      "dtypes: int64(2), object(3)\n",
      "memory usage: 2.2+ MB\n",
      "None\n"
     ]
    },
    {
     "data": {
      "text/html": [
       "<div>\n",
       "<style scoped>\n",
       "    .dataframe tbody tr th:only-of-type {\n",
       "        vertical-align: middle;\n",
       "    }\n",
       "\n",
       "    .dataframe tbody tr th {\n",
       "        vertical-align: top;\n",
       "    }\n",
       "\n",
       "    .dataframe thead th {\n",
       "        text-align: right;\n",
       "    }\n",
       "</style>\n",
       "<table border=\"1\" class=\"dataframe\">\n",
       "  <thead>\n",
       "    <tr style=\"text-align: right;\">\n",
       "      <th></th>\n",
       "      <th>creation_date</th>\n",
       "      <th>hours</th>\n",
       "      <th>min</th>\n",
       "      <th>description</th>\n",
       "      <th>type</th>\n",
       "    </tr>\n",
       "  </thead>\n",
       "  <tbody>\n",
       "    <tr>\n",
       "      <th>0</th>\n",
       "      <td>2021-07-20</td>\n",
       "      <td>9</td>\n",
       "      <td>42</td>\n",
       "      <td>Спецификация № Приложение № 81 к Договору № DL...</td>\n",
       "      <td>B9F7BFD7-7429-455E-A3F1-94FFB569C794</td>\n",
       "    </tr>\n",
       "    <tr>\n",
       "      <th>1</th>\n",
       "      <td>2021-07-20</td>\n",
       "      <td>9</td>\n",
       "      <td>46</td>\n",
       "      <td>Счет на оплату - 00069395</td>\n",
       "      <td>B9F7BFD7-7429-455E-A3F1-94FFB569C794</td>\n",
       "    </tr>\n",
       "    <tr>\n",
       "      <th>2</th>\n",
       "      <td>2021-07-20</td>\n",
       "      <td>10</td>\n",
       "      <td>4</td>\n",
       "      <td>Заявка на модификацию, 2503</td>\n",
       "      <td>16060B1C-C402-4E6B-A1DC-F9F03A12E01B</td>\n",
       "    </tr>\n",
       "    <tr>\n",
       "      <th>3</th>\n",
       "      <td>2021-07-20</td>\n",
       "      <td>10</td>\n",
       "      <td>15</td>\n",
       "      <td>Счет на оплату - 00069405</td>\n",
       "      <td>B9F7BFD7-7429-455E-A3F1-94FFB569C794</td>\n",
       "    </tr>\n",
       "    <tr>\n",
       "      <th>4</th>\n",
       "      <td>2021-07-20</td>\n",
       "      <td>12</td>\n",
       "      <td>3</td>\n",
       "      <td>Счет на оплату - 00069411</td>\n",
       "      <td>B9F7BFD7-7429-455E-A3F1-94FFB569C794</td>\n",
       "    </tr>\n",
       "  </tbody>\n",
       "</table>\n",
       "</div>"
      ],
      "text/plain": [
       "  creation_date  hours  min  \\\n",
       "0    2021-07-20      9   42   \n",
       "1    2021-07-20      9   46   \n",
       "2    2021-07-20     10    4   \n",
       "3    2021-07-20     10   15   \n",
       "4    2021-07-20     12    3   \n",
       "\n",
       "                                         description  \\\n",
       "0  Спецификация № Приложение № 81 к Договору № DL...   \n",
       "1                          Счет на оплату - 00069395   \n",
       "2                        Заявка на модификацию, 2503   \n",
       "3                          Счет на оплату - 00069405   \n",
       "4                          Счет на оплату - 00069411   \n",
       "\n",
       "                                   type  \n",
       "0  B9F7BFD7-7429-455E-A3F1-94FFB569C794  \n",
       "1  B9F7BFD7-7429-455E-A3F1-94FFB569C794  \n",
       "2  16060B1C-C402-4E6B-A1DC-F9F03A12E01B  \n",
       "3  B9F7BFD7-7429-455E-A3F1-94FFB569C794  \n",
       "4  B9F7BFD7-7429-455E-A3F1-94FFB569C794  "
      ]
     },
     "execution_count": 9,
     "metadata": {},
     "output_type": "execute_result"
    }
   ],
   "source": [
    "df = pd.read_csv(\"C:\\\\Users\\\\k_makolov\\\\Desktop\\\\cardCreatings.csv\",sep='~')\n",
    "df['min'] = pd.to_numeric(df['creation_date'].str[14:16])\n",
    "df['hours'] = pd.to_numeric(df['creation_date'].str[11:13])\n",
    "df['creation_date'] = (df['creation_date'].str[:10])\n",
    "df = df[['creation_date','hours','min','description','type']]\n",
    "df.to_csv(\"C:\\\\Users\\\\k_makolov\\\\Desktop\\\\cardCreatingsCompleted.csv\",sep='~')\n",
    "print(df.info())\n",
    "df.head()\n"
   ]
  },
  {
   "cell_type": "code",
   "execution_count": null,
   "metadata": {},
   "outputs": [],
   "source": []
  },
  {
   "cell_type": "code",
   "execution_count": null,
   "metadata": {},
   "outputs": [],
   "source": []
  },
  {
   "cell_type": "code",
   "execution_count": null,
   "metadata": {},
   "outputs": [],
   "source": []
  }
 ],
 "metadata": {
  "kernelspec": {
   "display_name": "Python 3.10.5 64-bit",
   "language": "python",
   "name": "python3"
  },
  "language_info": {
   "codemirror_mode": {
    "name": "ipython",
    "version": 3
   },
   "file_extension": ".py",
   "mimetype": "text/x-python",
   "name": "python",
   "nbconvert_exporter": "python",
   "pygments_lexer": "ipython3",
   "version": "3.10.5"
  },
  "orig_nbformat": 4,
  "vscode": {
   "interpreter": {
    "hash": "5dc9764a4593671b73163be20cb50b92018f869954ab990b01adaffec5371411"
   }
  }
 },
 "nbformat": 4,
 "nbformat_minor": 2
}
